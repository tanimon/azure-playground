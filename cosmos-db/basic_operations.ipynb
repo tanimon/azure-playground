{
 "cells": [
  {
   "cell_type": "markdown",
   "metadata": {},
   "source": [
    "以下を参考にCosmos DBのPython SDKを使って基本的な操作を行う。\n",
    "\n",
    "https://github.com/Azure/azure-sdk-for-python/blob/main/sdk/cosmos/azure-cosmos/README.md"
   ]
  },
  {
   "cell_type": "code",
   "execution_count": 1,
   "metadata": {},
   "outputs": [
    {
     "data": {
      "text/plain": [
       "True"
      ]
     },
     "execution_count": 1,
     "metadata": {},
     "output_type": "execute_result"
    }
   ],
   "source": [
    "from dotenv import load_dotenv\n",
    "\n",
    "load_dotenv()"
   ]
  },
  {
   "cell_type": "code",
   "execution_count": 2,
   "metadata": {},
   "outputs": [],
   "source": [
    "from azure.cosmos import CosmosClient\n",
    "\n",
    "import os\n",
    "URL = os.environ['ACCOUNT_URI']\n",
    "KEY = os.environ['ACCOUNT_KEY']\n",
    "client = CosmosClient(URL, credential=KEY)"
   ]
  },
  {
   "cell_type": "code",
   "execution_count": 3,
   "metadata": {},
   "outputs": [
    {
     "data": {
      "text/plain": [
       "<DatabaseProxy [dbs/testDatabase]>"
      ]
     },
     "execution_count": 3,
     "metadata": {},
     "output_type": "execute_result"
    }
   ],
   "source": [
    "from azure.cosmos import exceptions\n",
    "\n",
    "DATABASE_NAME = 'testDatabase'\n",
    "try:\n",
    "    database = client.create_database(DATABASE_NAME)\n",
    "except exceptions.CosmosResourceExistsError:\n",
    "    database = client.get_database_client(DATABASE_NAME)\n",
    "\n",
    "database"
   ]
  },
  {
   "cell_type": "code",
   "execution_count": 5,
   "metadata": {},
   "outputs": [
    {
     "data": {
      "text/plain": [
       "<ContainerProxy [dbs/testDatabase/colls/products]>"
      ]
     },
     "execution_count": 5,
     "metadata": {},
     "output_type": "execute_result"
    }
   ],
   "source": [
    "from azure.cosmos import PartitionKey\n",
    "\n",
    "database = client.get_database_client(DATABASE_NAME)\n",
    "CONTAINER_NAME = 'products'\n",
    "\n",
    "try:\n",
    "    container = database.create_container(id=CONTAINER_NAME, partition_key=PartitionKey(path=\"/productName\"))\n",
    "except exceptions.CosmosResourceExistsError:\n",
    "    container = database.get_container_client(CONTAINER_NAME)\n",
    "except exceptions.CosmosHttpResponseError:\n",
    "    raise\n",
    "\n",
    "container"
   ]
  },
  {
   "cell_type": "code",
   "execution_count": 6,
   "metadata": {},
   "outputs": [],
   "source": [
    "for i in range(1, 10):\n",
    "    container.upsert_item({\n",
    "            'id': 'item{0}'.format(i),\n",
    "            'productName': 'Widget',\n",
    "            'productModel': 'Model {0}'.format(i)\n",
    "        }\n",
    "    )\n"
   ]
  },
  {
   "cell_type": "code",
   "execution_count": 9,
   "metadata": {},
   "outputs": [
    {
     "name": "stdout",
     "output_type": "stream",
     "text": [
      "{\n",
      " \"id\": \"item1\",\n",
      " \"productName\": \"Widget\",\n",
      " \"productModel\": \"Model 1\",\n",
      " \"_rid\": \"LNV1AIlaHwsBAAAAAAAAAA==\",\n",
      " \"_self\": \"dbs/LNV1AA==/colls/LNV1AIlaHws=/docs/LNV1AIlaHwsBAAAAAAAAAA==/\",\n",
      " \"_etag\": \"\\\"63003642-0000-2300-0000-66b331ae0000\\\"\",\n",
      " \"_attachments\": \"attachments/\",\n",
      " \"_ts\": 1723019694\n",
      "}\n",
      "{\n",
      " \"id\": \"item2\",\n",
      " \"productName\": \"Widget\",\n",
      " \"productModel\": \"Model 2\",\n",
      " \"_rid\": \"LNV1AIlaHwsCAAAAAAAAAA==\",\n",
      " \"_self\": \"dbs/LNV1AA==/colls/LNV1AIlaHws=/docs/LNV1AIlaHwsCAAAAAAAAAA==/\",\n",
      " \"_etag\": \"\\\"63003742-0000-2300-0000-66b331ae0000\\\"\",\n",
      " \"_attachments\": \"attachments/\",\n",
      " \"_ts\": 1723019694\n",
      "}\n",
      "{\n",
      " \"id\": \"item3\",\n",
      " \"productName\": \"Widget\",\n",
      " \"productModel\": \"Model 3\",\n",
      " \"_rid\": \"LNV1AIlaHwsDAAAAAAAAAA==\",\n",
      " \"_self\": \"dbs/LNV1AA==/colls/LNV1AIlaHws=/docs/LNV1AIlaHwsDAAAAAAAAAA==/\",\n",
      " \"_etag\": \"\\\"63003842-0000-2300-0000-66b331af0000\\\"\",\n",
      " \"_attachments\": \"attachments/\",\n",
      " \"_ts\": 1723019695\n",
      "}\n",
      "{\n",
      " \"id\": \"item4\",\n",
      " \"productName\": \"Widget\",\n",
      " \"productModel\": \"Model 4\",\n",
      " \"_rid\": \"LNV1AIlaHwsEAAAAAAAAAA==\",\n",
      " \"_self\": \"dbs/LNV1AA==/colls/LNV1AIlaHws=/docs/LNV1AIlaHwsEAAAAAAAAAA==/\",\n",
      " \"_etag\": \"\\\"63003942-0000-2300-0000-66b331af0000\\\"\",\n",
      " \"_attachments\": \"attachments/\",\n",
      " \"_ts\": 1723019695\n",
      "}\n",
      "{\n",
      " \"id\": \"item5\",\n",
      " \"productName\": \"Widget\",\n",
      " \"productModel\": \"Model 5\",\n",
      " \"_rid\": \"LNV1AIlaHwsFAAAAAAAAAA==\",\n",
      " \"_self\": \"dbs/LNV1AA==/colls/LNV1AIlaHws=/docs/LNV1AIlaHwsFAAAAAAAAAA==/\",\n",
      " \"_etag\": \"\\\"63003a42-0000-2300-0000-66b331af0000\\\"\",\n",
      " \"_attachments\": \"attachments/\",\n",
      " \"_ts\": 1723019695\n",
      "}\n",
      "{\n",
      " \"id\": \"item6\",\n",
      " \"productName\": \"Widget\",\n",
      " \"productModel\": \"Model 6\",\n",
      " \"_rid\": \"LNV1AIlaHwsGAAAAAAAAAA==\",\n",
      " \"_self\": \"dbs/LNV1AA==/colls/LNV1AIlaHws=/docs/LNV1AIlaHwsGAAAAAAAAAA==/\",\n",
      " \"_etag\": \"\\\"63003b42-0000-2300-0000-66b331af0000\\\"\",\n",
      " \"_attachments\": \"attachments/\",\n",
      " \"_ts\": 1723019695\n",
      "}\n",
      "{\n",
      " \"id\": \"item7\",\n",
      " \"productName\": \"Widget\",\n",
      " \"productModel\": \"Model 7\",\n",
      " \"_rid\": \"LNV1AIlaHwsHAAAAAAAAAA==\",\n",
      " \"_self\": \"dbs/LNV1AA==/colls/LNV1AIlaHws=/docs/LNV1AIlaHwsHAAAAAAAAAA==/\",\n",
      " \"_etag\": \"\\\"63003c42-0000-2300-0000-66b331af0000\\\"\",\n",
      " \"_attachments\": \"attachments/\",\n",
      " \"_ts\": 1723019695\n",
      "}\n",
      "{\n",
      " \"id\": \"item8\",\n",
      " \"productName\": \"Widget\",\n",
      " \"productModel\": \"Model 8\",\n",
      " \"_rid\": \"LNV1AIlaHwsIAAAAAAAAAA==\",\n",
      " \"_self\": \"dbs/LNV1AA==/colls/LNV1AIlaHws=/docs/LNV1AIlaHwsIAAAAAAAAAA==/\",\n",
      " \"_etag\": \"\\\"63003d42-0000-2300-0000-66b331af0000\\\"\",\n",
      " \"_attachments\": \"attachments/\",\n",
      " \"_ts\": 1723019695\n",
      "}\n",
      "{\n",
      " \"id\": \"item9\",\n",
      " \"productName\": \"Widget\",\n",
      " \"productModel\": \"Model 9\",\n",
      " \"_rid\": \"LNV1AIlaHwsJAAAAAAAAAA==\",\n",
      " \"_self\": \"dbs/LNV1AA==/colls/LNV1AIlaHws=/docs/LNV1AIlaHwsJAAAAAAAAAA==/\",\n",
      " \"_etag\": \"\\\"63003e42-0000-2300-0000-66b331af0000\\\"\",\n",
      " \"_attachments\": \"attachments/\",\n",
      " \"_ts\": 1723019695\n",
      "}\n"
     ]
    }
   ],
   "source": [
    "import json\n",
    "\n",
    "for item in container.query_items(\n",
    "        query=f'SELECT * FROM {CONTAINER_NAME}',\n",
    "        enable_cross_partition_query=True):\n",
    "    print(json.dumps(item, indent=True))\n"
   ]
  },
  {
   "cell_type": "code",
   "execution_count": 10,
   "metadata": {},
   "outputs": [
    {
     "name": "stdout",
     "output_type": "stream",
     "text": [
      "{\n",
      " \"id\": \"item2\",\n",
      " \"productName\": \"Widget\",\n",
      " \"productModel\": \"Model 2\",\n",
      " \"_rid\": \"LNV1AIlaHwsCAAAAAAAAAA==\",\n",
      " \"_self\": \"dbs/LNV1AA==/colls/LNV1AIlaHws=/docs/LNV1AIlaHwsCAAAAAAAAAA==/\",\n",
      " \"_etag\": \"\\\"63003742-0000-2300-0000-66b331ae0000\\\"\",\n",
      " \"_attachments\": \"attachments/\",\n",
      " \"_ts\": 1723019694\n",
      "}\n"
     ]
    }
   ],
   "source": [
    "for item in container.query_items(\n",
    "        query='SELECT * FROM products p WHERE p.productModel = \"Model 2\"',\n",
    "        enable_cross_partition_query=True):\n",
    "    print(json.dumps(item, indent=True))\n",
    "    container.delete_item(item, partition_key='Widget')\n"
   ]
  },
  {
   "cell_type": "code",
   "execution_count": 11,
   "metadata": {},
   "outputs": [
    {
     "name": "stdout",
     "output_type": "stream",
     "text": [
      "{\n",
      " \"id\": \"item1\",\n",
      " \"productName\": \"Widget\",\n",
      " \"productModel\": \"Model 1\",\n",
      " \"_rid\": \"LNV1AIlaHwsBAAAAAAAAAA==\",\n",
      " \"_self\": \"dbs/LNV1AA==/colls/LNV1AIlaHws=/docs/LNV1AIlaHwsBAAAAAAAAAA==/\",\n",
      " \"_etag\": \"\\\"63003642-0000-2300-0000-66b331ae0000\\\"\",\n",
      " \"_attachments\": \"attachments/\",\n",
      " \"_ts\": 1723019694\n",
      "}\n",
      "{\n",
      " \"id\": \"item3\",\n",
      " \"productName\": \"Widget\",\n",
      " \"productModel\": \"Model 3\",\n",
      " \"_rid\": \"LNV1AIlaHwsDAAAAAAAAAA==\",\n",
      " \"_self\": \"dbs/LNV1AA==/colls/LNV1AIlaHws=/docs/LNV1AIlaHwsDAAAAAAAAAA==/\",\n",
      " \"_etag\": \"\\\"63003842-0000-2300-0000-66b331af0000\\\"\",\n",
      " \"_attachments\": \"attachments/\",\n",
      " \"_ts\": 1723019695\n",
      "}\n",
      "{\n",
      " \"id\": \"item4\",\n",
      " \"productName\": \"Widget\",\n",
      " \"productModel\": \"Model 4\",\n",
      " \"_rid\": \"LNV1AIlaHwsEAAAAAAAAAA==\",\n",
      " \"_self\": \"dbs/LNV1AA==/colls/LNV1AIlaHws=/docs/LNV1AIlaHwsEAAAAAAAAAA==/\",\n",
      " \"_etag\": \"\\\"63003942-0000-2300-0000-66b331af0000\\\"\",\n",
      " \"_attachments\": \"attachments/\",\n",
      " \"_ts\": 1723019695\n",
      "}\n",
      "{\n",
      " \"id\": \"item5\",\n",
      " \"productName\": \"Widget\",\n",
      " \"productModel\": \"Model 5\",\n",
      " \"_rid\": \"LNV1AIlaHwsFAAAAAAAAAA==\",\n",
      " \"_self\": \"dbs/LNV1AA==/colls/LNV1AIlaHws=/docs/LNV1AIlaHwsFAAAAAAAAAA==/\",\n",
      " \"_etag\": \"\\\"63003a42-0000-2300-0000-66b331af0000\\\"\",\n",
      " \"_attachments\": \"attachments/\",\n",
      " \"_ts\": 1723019695\n",
      "}\n",
      "{\n",
      " \"id\": \"item6\",\n",
      " \"productName\": \"Widget\",\n",
      " \"productModel\": \"Model 6\",\n",
      " \"_rid\": \"LNV1AIlaHwsGAAAAAAAAAA==\",\n",
      " \"_self\": \"dbs/LNV1AA==/colls/LNV1AIlaHws=/docs/LNV1AIlaHwsGAAAAAAAAAA==/\",\n",
      " \"_etag\": \"\\\"63003b42-0000-2300-0000-66b331af0000\\\"\",\n",
      " \"_attachments\": \"attachments/\",\n",
      " \"_ts\": 1723019695\n",
      "}\n",
      "{\n",
      " \"id\": \"item7\",\n",
      " \"productName\": \"Widget\",\n",
      " \"productModel\": \"Model 7\",\n",
      " \"_rid\": \"LNV1AIlaHwsHAAAAAAAAAA==\",\n",
      " \"_self\": \"dbs/LNV1AA==/colls/LNV1AIlaHws=/docs/LNV1AIlaHwsHAAAAAAAAAA==/\",\n",
      " \"_etag\": \"\\\"63003c42-0000-2300-0000-66b331af0000\\\"\",\n",
      " \"_attachments\": \"attachments/\",\n",
      " \"_ts\": 1723019695\n",
      "}\n",
      "{\n",
      " \"id\": \"item8\",\n",
      " \"productName\": \"Widget\",\n",
      " \"productModel\": \"Model 8\",\n",
      " \"_rid\": \"LNV1AIlaHwsIAAAAAAAAAA==\",\n",
      " \"_self\": \"dbs/LNV1AA==/colls/LNV1AIlaHws=/docs/LNV1AIlaHwsIAAAAAAAAAA==/\",\n",
      " \"_etag\": \"\\\"63003d42-0000-2300-0000-66b331af0000\\\"\",\n",
      " \"_attachments\": \"attachments/\",\n",
      " \"_ts\": 1723019695\n",
      "}\n",
      "{\n",
      " \"id\": \"item9\",\n",
      " \"productName\": \"Widget\",\n",
      " \"productModel\": \"Model 9\",\n",
      " \"_rid\": \"LNV1AIlaHwsJAAAAAAAAAA==\",\n",
      " \"_self\": \"dbs/LNV1AA==/colls/LNV1AIlaHws=/docs/LNV1AIlaHwsJAAAAAAAAAA==/\",\n",
      " \"_etag\": \"\\\"63003e42-0000-2300-0000-66b331af0000\\\"\",\n",
      " \"_attachments\": \"attachments/\",\n",
      " \"_ts\": 1723019695\n",
      "}\n"
     ]
    }
   ],
   "source": [
    "for item in container.read_all_items():\n",
    "    print(json.dumps(item, indent=True))"
   ]
  },
  {
   "cell_type": "code",
   "execution_count": 12,
   "metadata": {},
   "outputs": [
    {
     "name": "stdout",
     "output_type": "stream",
     "text": [
      "{\n",
      " \"id\": \"item3\",\n",
      " \"productName\": \"Widget\",\n",
      " \"productModel\": \"Model 3\",\n",
      " \"_rid\": \"LNV1AIlaHwsDAAAAAAAAAA==\",\n",
      " \"_self\": \"dbs/LNV1AA==/colls/LNV1AIlaHws=/docs/LNV1AIlaHwsDAAAAAAAAAA==/\",\n",
      " \"_etag\": \"\\\"63003842-0000-2300-0000-66b331af0000\\\"\",\n",
      " \"_attachments\": \"attachments/\",\n",
      " \"_ts\": 1723019695\n",
      "}\n"
     ]
    }
   ],
   "source": [
    "for item in container.query_items(\n",
    "        query=f'SELECT * FROM {CONTAINER_NAME} r WHERE r.id=\"item3\"',\n",
    "        enable_cross_partition_query=True):\n",
    "    print(json.dumps(item, indent=True))"
   ]
  }
 ],
 "metadata": {
  "kernelspec": {
   "display_name": ".venv",
   "language": "python",
   "name": "python3"
  },
  "language_info": {
   "codemirror_mode": {
    "name": "ipython",
    "version": 3
   },
   "file_extension": ".py",
   "mimetype": "text/x-python",
   "name": "python",
   "nbconvert_exporter": "python",
   "pygments_lexer": "ipython3",
   "version": "3.12.3"
  }
 },
 "nbformat": 4,
 "nbformat_minor": 2
}
